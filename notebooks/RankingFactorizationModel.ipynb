{
 "cells": [
  {
   "cell_type": "code",
   "execution_count": 4,
   "metadata": {
    "collapsed": true
   },
   "outputs": [],
   "source": [
    "import math\n",
    "import graphlab as gl"
   ]
  },
  {
   "cell_type": "code",
   "execution_count": 49,
   "metadata": {
    "collapsed": true
   },
   "outputs": [],
   "source": [
    "def load_data():\n",
    "\n",
    "    # load data\n",
    "    data = gl.SFrame.read_csv('../data/ml-100k/u.complete.data.csv', delimiter=',', verbose=True)\n",
    "    print data\n",
    "    train_data, test_data = gl.recommender.util.random_split_by_user(data, max_num_users=int(math.floor(data.shape[0]/4)))\n",
    "    return data, train_data, test_data\n",
    "\n",
    "def evaluate_model(model, model_name, test_data):\n",
    "\n",
    "    # map and recall evaluation for top-K items\n",
    "    evaluation = gl.recommender.util.compare_models(test_data, [model], model_names=[model_name])\n",
    "\n",
    "    # save model evaluation to file\n",
    "    evaluation[0]['precision_recall_overall'].save('data/output/{0}_evaluation.csv'.format(model_name), format='csv')\n",
    "\n",
    "    # return model evaluation\n",
    "    return evaluation"
   ]
  },
  {
   "cell_type": "code",
   "execution_count": 50,
   "metadata": {
    "collapsed": false
   },
   "outputs": [
    {
     "data": {
      "text/html": [
       "<pre>Finished parsing file /Users/santteegt/GitRepositories/ucl-cfdrl-msc/data/ml-100k/u.complete.data.csv</pre>"
      ],
      "text/plain": [
       "Finished parsing file /Users/santteegt/GitRepositories/ucl-cfdrl-msc/data/ml-100k/u.complete.data.csv"
      ]
     },
     "metadata": {},
     "output_type": "display_data"
    },
    {
     "data": {
      "text/html": [
       "<pre>Parsing completed. Parsed 100 lines in 0.131899 secs.</pre>"
      ],
      "text/plain": [
       "Parsing completed. Parsed 100 lines in 0.131899 secs."
      ]
     },
     "metadata": {},
     "output_type": "display_data"
    },
    {
     "name": "stdout",
     "output_type": "stream",
     "text": [
      "------------------------------------------------------\n",
      "Inferred types from first 100 line(s) of file as \n",
      "column_type_hints=[int,int,int,int,int]\n",
      "If parsing fails due to incorrect types, you can correct\n",
      "the inferred type list above and pass it to read_csv in\n",
      "the column_type_hints argument\n",
      "------------------------------------------------------\n"
     ]
    },
    {
     "data": {
      "text/html": [
       "<pre>Finished parsing file /Users/santteegt/GitRepositories/ucl-cfdrl-msc/data/ml-100k/u.complete.data.csv</pre>"
      ],
      "text/plain": [
       "Finished parsing file /Users/santteegt/GitRepositories/ucl-cfdrl-msc/data/ml-100k/u.complete.data.csv"
      ]
     },
     "metadata": {},
     "output_type": "display_data"
    },
    {
     "data": {
      "text/html": [
       "<pre>Parsing completed. Parsed 100000 lines in 0.109488 secs.</pre>"
      ],
      "text/plain": [
       "Parsing completed. Parsed 100000 lines in 0.109488 secs."
      ]
     },
     "metadata": {},
     "output_type": "display_data"
    },
    {
     "name": "stdout",
     "output_type": "stream",
     "text": [
      "+---------+---------+--------+-----------+-----------+\n",
      "| user_id | item_id | rating | timestamp | prev_item |\n",
      "+---------+---------+--------+-----------+-----------+\n",
      "|    1    |    1    |   5    |     3     |    109    |\n",
      "|    1    |    2    |   3    |     25    |    164    |\n",
      "|    1    |    3    |   4    |     44    |     58    |\n",
      "|    1    |    4    |   3    |     25    |    119    |\n",
      "|    1    |    5    |   3    |    174    |    256    |\n",
      "|    1    |    6    |   5    |    147    |    221    |\n",
      "|    1    |    7    |   4    |     4     |    146    |\n",
      "|    1    |    8    |   1    |     4     |     89    |\n",
      "|    1    |    9    |   5    |     44    |    154    |\n",
      "|    1    |    10   |   3    |     11    |    263    |\n",
      "+---------+---------+--------+-----------+-----------+\n",
      "[100000 rows x 5 columns]\n",
      "Note: Only the head of the SFrame is printed.\n",
      "You can use print_rows(num_rows=m, num_columns=n) to print more rows and columns.\n",
      "(80009, 5)\n",
      "(19991, 5)\n"
     ]
    }
   ],
   "source": [
    "data, train, test = load_data()\n",
    "print train.shape\n",
    "print test.shape"
   ]
  },
  {
   "cell_type": "code",
   "execution_count": 97,
   "metadata": {
    "collapsed": false
   },
   "outputs": [
    {
     "data": {
      "text/html": [
       "<pre>Recsys training: model = ranking_factorization_recommender</pre>"
      ],
      "text/plain": [
       "Recsys training: model = ranking_factorization_recommender"
      ]
     },
     "metadata": {},
     "output_type": "display_data"
    },
    {
     "data": {
      "text/html": [
       "<pre>Preparing data set.</pre>"
      ],
      "text/plain": [
       "Preparing data set."
      ]
     },
     "metadata": {},
     "output_type": "display_data"
    },
    {
     "data": {
      "text/html": [
       "<pre>    Data has 100000 observations with 943 users and 1682 items.</pre>"
      ],
      "text/plain": [
       "    Data has 100000 observations with 943 users and 1682 items."
      ]
     },
     "metadata": {},
     "output_type": "display_data"
    },
    {
     "data": {
      "text/html": [
       "<pre>    Data prepared in: 0.192317s</pre>"
      ],
      "text/plain": [
       "    Data prepared in: 0.192317s"
      ]
     },
     "metadata": {},
     "output_type": "display_data"
    },
    {
     "data": {
      "text/html": [
       "<pre>Training ranking_factorization_recommender for recommendations.</pre>"
      ],
      "text/plain": [
       "Training ranking_factorization_recommender for recommendations."
      ]
     },
     "metadata": {},
     "output_type": "display_data"
    },
    {
     "data": {
      "text/html": [
       "<pre>+--------------------------------+--------------------------------------------------+----------+</pre>"
      ],
      "text/plain": [
       "+--------------------------------+--------------------------------------------------+----------+"
      ]
     },
     "metadata": {},
     "output_type": "display_data"
    },
    {
     "data": {
      "text/html": [
       "<pre>| Parameter                      | Description                                      | Value    |</pre>"
      ],
      "text/plain": [
       "| Parameter                      | Description                                      | Value    |"
      ]
     },
     "metadata": {},
     "output_type": "display_data"
    },
    {
     "data": {
      "text/html": [
       "<pre>+--------------------------------+--------------------------------------------------+----------+</pre>"
      ],
      "text/plain": [
       "+--------------------------------+--------------------------------------------------+----------+"
      ]
     },
     "metadata": {},
     "output_type": "display_data"
    },
    {
     "data": {
      "text/html": [
       "<pre>| num_factors                    | Factor Dimension                                 | 32       |</pre>"
      ],
      "text/plain": [
       "| num_factors                    | Factor Dimension                                 | 32       |"
      ]
     },
     "metadata": {},
     "output_type": "display_data"
    },
    {
     "data": {
      "text/html": [
       "<pre>| regularization                 | L2 Regularization on Factors                     | 1e-09    |</pre>"
      ],
      "text/plain": [
       "| regularization                 | L2 Regularization on Factors                     | 1e-09    |"
      ]
     },
     "metadata": {},
     "output_type": "display_data"
    },
    {
     "data": {
      "text/html": [
       "<pre>| solver                         | Solver used for training                         | adagrad  |</pre>"
      ],
      "text/plain": [
       "| solver                         | Solver used for training                         | adagrad  |"
      ]
     },
     "metadata": {},
     "output_type": "display_data"
    },
    {
     "data": {
      "text/html": [
       "<pre>| linear_regularization          | L2 Regularization on Linear Coefficients         | 1e-09    |</pre>"
      ],
      "text/plain": [
       "| linear_regularization          | L2 Regularization on Linear Coefficients         | 1e-09    |"
      ]
     },
     "metadata": {},
     "output_type": "display_data"
    },
    {
     "data": {
      "text/html": [
       "<pre>| binary_target                  | Assume Binary Targets                            | True     |</pre>"
      ],
      "text/plain": [
       "| binary_target                  | Assume Binary Targets                            | True     |"
      ]
     },
     "metadata": {},
     "output_type": "display_data"
    },
    {
     "data": {
      "text/html": [
       "<pre>| max_iterations                 | Maximum Number of Iterations                     | 50       |</pre>"
      ],
      "text/plain": [
       "| max_iterations                 | Maximum Number of Iterations                     | 50       |"
      ]
     },
     "metadata": {},
     "output_type": "display_data"
    },
    {
     "data": {
      "text/html": [
       "<pre>+--------------------------------+--------------------------------------------------+----------+</pre>"
      ],
      "text/plain": [
       "+--------------------------------+--------------------------------------------------+----------+"
      ]
     },
     "metadata": {},
     "output_type": "display_data"
    },
    {
     "data": {
      "text/html": [
       "<pre>  Optimizing model using SGD; tuning step size.</pre>"
      ],
      "text/plain": [
       "  Optimizing model using SGD; tuning step size."
      ]
     },
     "metadata": {},
     "output_type": "display_data"
    },
    {
     "data": {
      "text/html": [
       "<pre>  Using 12500 / 100000 points for tuning the step size.</pre>"
      ],
      "text/plain": [
       "  Using 12500 / 100000 points for tuning the step size."
      ]
     },
     "metadata": {},
     "output_type": "display_data"
    },
    {
     "data": {
      "text/html": [
       "<pre>+---------+-------------------+------------------------------------------+</pre>"
      ],
      "text/plain": [
       "+---------+-------------------+------------------------------------------+"
      ]
     },
     "metadata": {},
     "output_type": "display_data"
    },
    {
     "data": {
      "text/html": [
       "<pre>| Attempt | Initial Step Size | Estimated Objective Value                |</pre>"
      ],
      "text/plain": [
       "| Attempt | Initial Step Size | Estimated Objective Value                |"
      ]
     },
     "metadata": {},
     "output_type": "display_data"
    },
    {
     "data": {
      "text/html": [
       "<pre>+---------+-------------------+------------------------------------------+</pre>"
      ],
      "text/plain": [
       "+---------+-------------------+------------------------------------------+"
      ]
     },
     "metadata": {},
     "output_type": "display_data"
    },
    {
     "data": {
      "text/html": [
       "<pre>| 0       | 12.5              | Not Viable                               |</pre>"
      ],
      "text/plain": [
       "| 0       | 12.5              | Not Viable                               |"
      ]
     },
     "metadata": {},
     "output_type": "display_data"
    },
    {
     "data": {
      "text/html": [
       "<pre>| 1       | 3.125             | Not Viable                               |</pre>"
      ],
      "text/plain": [
       "| 1       | 3.125             | Not Viable                               |"
      ]
     },
     "metadata": {},
     "output_type": "display_data"
    },
    {
     "data": {
      "text/html": [
       "<pre>| 2       | 0.78125           | Not Viable                               |</pre>"
      ],
      "text/plain": [
       "| 2       | 0.78125           | Not Viable                               |"
      ]
     },
     "metadata": {},
     "output_type": "display_data"
    },
    {
     "data": {
      "text/html": [
       "<pre>| 3       | 0.195312          | Not Viable                               |</pre>"
      ],
      "text/plain": [
       "| 3       | 0.195312          | Not Viable                               |"
      ]
     },
     "metadata": {},
     "output_type": "display_data"
    },
    {
     "data": {
      "text/html": [
       "<pre>| 4       | 0.0488281         | 1.29047                                  |</pre>"
      ],
      "text/plain": [
       "| 4       | 0.0488281         | 1.29047                                  |"
      ]
     },
     "metadata": {},
     "output_type": "display_data"
    },
    {
     "data": {
      "text/html": [
       "<pre>| 5       | 0.0244141         | 1.37124                                  |</pre>"
      ],
      "text/plain": [
       "| 5       | 0.0244141         | 1.37124                                  |"
      ]
     },
     "metadata": {},
     "output_type": "display_data"
    },
    {
     "data": {
      "text/html": [
       "<pre>| 6       | 0.012207          | 1.37547                                  |</pre>"
      ],
      "text/plain": [
       "| 6       | 0.012207          | 1.37547                                  |"
      ]
     },
     "metadata": {},
     "output_type": "display_data"
    },
    {
     "data": {
      "text/html": [
       "<pre>| 7       | 0.00610352        | 1.3814                                   |</pre>"
      ],
      "text/plain": [
       "| 7       | 0.00610352        | 1.3814                                   |"
      ]
     },
     "metadata": {},
     "output_type": "display_data"
    },
    {
     "data": {
      "text/html": [
       "<pre>+---------+-------------------+------------------------------------------+</pre>"
      ],
      "text/plain": [
       "+---------+-------------------+------------------------------------------+"
      ]
     },
     "metadata": {},
     "output_type": "display_data"
    },
    {
     "data": {
      "text/html": [
       "<pre>| Final   | 0.0488281         | 1.29047                                  |</pre>"
      ],
      "text/plain": [
       "| Final   | 0.0488281         | 1.29047                                  |"
      ]
     },
     "metadata": {},
     "output_type": "display_data"
    },
    {
     "data": {
      "text/html": [
       "<pre>+---------+-------------------+------------------------------------------+</pre>"
      ],
      "text/plain": [
       "+---------+-------------------+------------------------------------------+"
      ]
     },
     "metadata": {},
     "output_type": "display_data"
    },
    {
     "data": {
      "text/html": [
       "<pre>Starting Optimization.</pre>"
      ],
      "text/plain": [
       "Starting Optimization."
      ]
     },
     "metadata": {},
     "output_type": "display_data"
    },
    {
     "data": {
      "text/html": [
       "<pre>+---------+--------------+-------------------+-----------------------------------+-------------+</pre>"
      ],
      "text/plain": [
       "+---------+--------------+-------------------+-----------------------------------+-------------+"
      ]
     },
     "metadata": {},
     "output_type": "display_data"
    },
    {
     "data": {
      "text/html": [
       "<pre>| Iter.   | Elapsed Time | Approx. Objective | Approx. Training Predictive Error | Step Size   |</pre>"
      ],
      "text/plain": [
       "| Iter.   | Elapsed Time | Approx. Objective | Approx. Training Predictive Error | Step Size   |"
      ]
     },
     "metadata": {},
     "output_type": "display_data"
    },
    {
     "data": {
      "text/html": [
       "<pre>+---------+--------------+-------------------+-----------------------------------+-------------+</pre>"
      ],
      "text/plain": [
       "+---------+--------------+-------------------+-----------------------------------+-------------+"
      ]
     },
     "metadata": {},
     "output_type": "display_data"
    },
    {
     "data": {
      "text/html": [
       "<pre>| Initial | 128us        | 1.38644           | 0.693148                          |             |</pre>"
      ],
      "text/plain": [
       "| Initial | 128us        | 1.38644           | 0.693148                          |             |"
      ]
     },
     "metadata": {},
     "output_type": "display_data"
    },
    {
     "data": {
      "text/html": [
       "<pre>+---------+--------------+-------------------+-----------------------------------+-------------+</pre>"
      ],
      "text/plain": [
       "+---------+--------------+-------------------+-----------------------------------+-------------+"
      ]
     },
     "metadata": {},
     "output_type": "display_data"
    },
    {
     "data": {
      "text/html": [
       "<pre>| 1       | 536.617ms    | DIVERGED          | DIVERGED                          | 0.0488281   |</pre>"
      ],
      "text/plain": [
       "| 1       | 536.617ms    | DIVERGED          | DIVERGED                          | 0.0488281   |"
      ]
     },
     "metadata": {},
     "output_type": "display_data"
    },
    {
     "data": {
      "text/html": [
       "<pre>| RESET   | 720.269ms    | 1.38644           | 0.693135                          |             |</pre>"
      ],
      "text/plain": [
       "| RESET   | 720.269ms    | 1.38644           | 0.693135                          |             |"
      ]
     },
     "metadata": {},
     "output_type": "display_data"
    },
    {
     "data": {
      "text/html": [
       "<pre>| 1       | 1.02s        | 1.50036           | 0.780376                          | 0.0244141   |</pre>"
      ],
      "text/plain": [
       "| 1       | 1.02s        | 1.50036           | 0.780376                          | 0.0244141   |"
      ]
     },
     "metadata": {},
     "output_type": "display_data"
    },
    {
     "data": {
      "text/html": [
       "<pre>| 2       | 1.33s        | 1.63821           | 0.796695                          | 0.0244141   |</pre>"
      ],
      "text/plain": [
       "| 2       | 1.33s        | 1.63821           | 0.796695                          | 0.0244141   |"
      ]
     },
     "metadata": {},
     "output_type": "display_data"
    },
    {
     "data": {
      "text/html": [
       "<pre>| 3       | 1.73s        | 1.92728           | 0.998413                          | 0.0244141   |</pre>"
      ],
      "text/plain": [
       "| 3       | 1.73s        | 1.92728           | 0.998413                          | 0.0244141   |"
      ]
     },
     "metadata": {},
     "output_type": "display_data"
    },
    {
     "data": {
      "text/html": [
       "<pre>| 4       | 2.02s        | 1.6478            | 0.821692                          | 0.0244141   |</pre>"
      ],
      "text/plain": [
       "| 4       | 2.02s        | 1.6478            | 0.821692                          | 0.0244141   |"
      ]
     },
     "metadata": {},
     "output_type": "display_data"
    },
    {
     "data": {
      "text/html": [
       "<pre>| 5       | 2.30s        | 1.94322           | 1.03571                           | 0.0244141   |</pre>"
      ],
      "text/plain": [
       "| 5       | 2.30s        | 1.94322           | 1.03571                           | 0.0244141   |"
      ]
     },
     "metadata": {},
     "output_type": "display_data"
    },
    {
     "data": {
      "text/html": [
       "<pre>| 6       | 2.58s        | 1.67609           | 0.855589                          | 0.0244141   |</pre>"
      ],
      "text/plain": [
       "| 6       | 2.58s        | 1.67609           | 0.855589                          | 0.0244141   |"
      ]
     },
     "metadata": {},
     "output_type": "display_data"
    },
    {
     "data": {
      "text/html": [
       "<pre>| 9       | 3.49s        | 1.66516           | 0.847696                          | 0.0244141   |</pre>"
      ],
      "text/plain": [
       "| 9       | 3.49s        | 1.66516           | 0.847696                          | 0.0244141   |"
      ]
     },
     "metadata": {},
     "output_type": "display_data"
    },
    {
     "data": {
      "text/html": [
       "<pre>| 11      | 4.15s        | 1.69208           | 0.847388                          | 0.0244141   |</pre>"
      ],
      "text/plain": [
       "| 11      | 4.15s        | 1.69208           | 0.847388                          | 0.0244141   |"
      ]
     },
     "metadata": {},
     "output_type": "display_data"
    },
    {
     "data": {
      "text/html": [
       "<pre>| 14      | 4.97s        | 1.65877           | 0.818444                          | 0.0244141   |</pre>"
      ],
      "text/plain": [
       "| 14      | 4.97s        | 1.65877           | 0.818444                          | 0.0244141   |"
      ]
     },
     "metadata": {},
     "output_type": "display_data"
    },
    {
     "data": {
      "text/html": [
       "<pre>| 19      | 6.67s        | 1.62017           | 0.802283                          | 0.0244141   |</pre>"
      ],
      "text/plain": [
       "| 19      | 6.67s        | 1.62017           | 0.802283                          | 0.0244141   |"
      ]
     },
     "metadata": {},
     "output_type": "display_data"
    },
    {
     "data": {
      "text/html": [
       "<pre>| 24      | 8.09s        | 2.59331           | 1.13996                           | 0.0244141   |</pre>"
      ],
      "text/plain": [
       "| 24      | 8.09s        | 2.59331           | 1.13996                           | 0.0244141   |"
      ]
     },
     "metadata": {},
     "output_type": "display_data"
    },
    {
     "data": {
      "text/html": [
       "<pre>| 25      | 8.57s        | DIVERGED          | DIVERGED                          | 0.0244141   |</pre>"
      ],
      "text/plain": [
       "| 25      | 8.57s        | DIVERGED          | DIVERGED                          | 0.0244141   |"
      ]
     },
     "metadata": {},
     "output_type": "display_data"
    },
    {
     "data": {
      "text/html": [
       "<pre>| RESET   | 8.75s        | 1.38645           | 0.693146                          |             |</pre>"
      ],
      "text/plain": [
       "| RESET   | 8.75s        | 1.38645           | 0.693146                          |             |"
      ]
     },
     "metadata": {},
     "output_type": "display_data"
    },
    {
     "data": {
      "text/html": [
       "<pre>| 4       | 9.94s        | 1.40353           | 0.702126                          | 0.012207    |</pre>"
      ],
      "text/plain": [
       "| 4       | 9.94s        | 1.40353           | 0.702126                          | 0.012207    |"
      ]
     },
     "metadata": {},
     "output_type": "display_data"
    },
    {
     "data": {
      "text/html": [
       "<pre>| 9       | 11.21s       | 1.36388           | 0.644289                          | 0.012207    |</pre>"
      ],
      "text/plain": [
       "| 9       | 11.21s       | 1.36388           | 0.644289                          | 0.012207    |"
      ]
     },
     "metadata": {},
     "output_type": "display_data"
    },
    {
     "data": {
      "text/html": [
       "<pre>| 14      | 12.53s       | 1.38707           | 0.67556                           | 0.012207    |</pre>"
      ],
      "text/plain": [
       "| 14      | 12.53s       | 1.38707           | 0.67556                           | 0.012207    |"
      ]
     },
     "metadata": {},
     "output_type": "display_data"
    },
    {
     "data": {
      "text/html": [
       "<pre>| 19      | 13.96s       | 1.37367           | 0.702092                          | 0.012207    |</pre>"
      ],
      "text/plain": [
       "| 19      | 13.96s       | 1.37367           | 0.702092                          | 0.012207    |"
      ]
     },
     "metadata": {},
     "output_type": "display_data"
    },
    {
     "data": {
      "text/html": [
       "<pre>| 24      | 15.25s       | 1.36366           | 0.703839                          | 0.012207    |</pre>"
      ],
      "text/plain": [
       "| 24      | 15.25s       | 1.36366           | 0.703839                          | 0.012207    |"
      ]
     },
     "metadata": {},
     "output_type": "display_data"
    },
    {
     "data": {
      "text/html": [
       "<pre>| 27      | 16.04s       | 1.3617            | 0.695455                          | 0.012207    |</pre>"
      ],
      "text/plain": [
       "| 27      | 16.04s       | 1.3617            | 0.695455                          | 0.012207    |"
      ]
     },
     "metadata": {},
     "output_type": "display_data"
    },
    {
     "data": {
      "text/html": [
       "<pre>| 29      | 16.56s       | 1.37305           | 0.702246                          | 0.012207    |</pre>"
      ],
      "text/plain": [
       "| 29      | 16.56s       | 1.37305           | 0.702246                          | 0.012207    |"
      ]
     },
     "metadata": {},
     "output_type": "display_data"
    },
    {
     "data": {
      "text/html": [
       "<pre>+---------+--------------+-------------------+-----------------------------------+-------------+</pre>"
      ],
      "text/plain": [
       "+---------+--------------+-------------------+-----------------------------------+-------------+"
      ]
     },
     "metadata": {},
     "output_type": "display_data"
    },
    {
     "data": {
      "text/html": [
       "<pre>Optimization Complete: Maximum number of passes through the data reached (hard limit).</pre>"
      ],
      "text/plain": [
       "Optimization Complete: Maximum number of passes through the data reached (hard limit)."
      ]
     },
     "metadata": {},
     "output_type": "display_data"
    },
    {
     "data": {
      "text/html": [
       "<pre>Computing final objective value and training Predictive Error.</pre>"
      ],
      "text/plain": [
       "Computing final objective value and training Predictive Error."
      ]
     },
     "metadata": {},
     "output_type": "display_data"
    },
    {
     "data": {
      "text/html": [
       "<pre>       Final objective value: 1.38068</pre>"
      ],
      "text/plain": [
       "       Final objective value: 1.38068"
      ]
     },
     "metadata": {},
     "output_type": "display_data"
    },
    {
     "data": {
      "text/html": [
       "<pre>       Final training Predictive Error: 0.692818</pre>"
      ],
      "text/plain": [
       "       Final training Predictive Error: 0.692818"
      ]
     },
     "metadata": {},
     "output_type": "display_data"
    }
   ],
   "source": [
    "train_set = data[[\"user_id\", \"item_id\", \"timestamp\", \"prev_item\"]]\n",
    "test_set = test[[\"user_id\", \"item_id\", \"timestamp\", \"prev_item\"]]\n",
    "rm = gl.ranking_factorization_recommender.create(train_set, max_iterations=50)\n",
    "# make recommendations\n",
    "recs = rm.recommend()\n",
    "# save recommendations to file\n",
    "recs.save('../data/output/rank_fact_recs.csv', format='csv')\n",
    "# # get similar items\n",
    "# sim_items = rm.get_similar_items()\n",
    "# # save similar items to file\n",
    "# sim_items.save('data/output/rank_fact_sim_items.csv', format='csv')\n",
    "# # evaluate model\n",
    "# evaluate_model(rm, 'rank_fact', test_set)\n",
    "\n",
    "rm.save('data/FMmodel')"
   ]
  },
  {
   "cell_type": "code",
   "execution_count": 89,
   "metadata": {
    "collapsed": false
   },
   "outputs": [
    {
     "data": {
      "text/plain": [
       "'user_id'"
      ]
     },
     "execution_count": 89,
     "metadata": {},
     "output_type": "execute_result"
    }
   ],
   "source": [
    "rm.get('user_id')"
   ]
  },
  {
   "cell_type": "code",
   "execution_count": 98,
   "metadata": {
    "collapsed": true
   },
   "outputs": [],
   "source": [
    "model = gl.load_model('data/FMmodel')"
   ]
  },
  {
   "cell_type": "code",
   "execution_count": 103,
   "metadata": {
    "collapsed": false,
    "scrolled": true
   },
   "outputs": [
    {
     "name": "stdout",
     "output_type": "stream",
     "text": [
      "+---------+-----------+---------------+\n",
      "| item_id | prev_item |   timestamp   |\n",
      "+---------+-----------+---------------+\n",
      "|    1    |    109    | 1472107668977 |\n",
      "|   200   |    423    |     11001     |\n",
      "+---------+-----------+---------------+\n",
      "[2 rows x 3 columns]\n",
      "\n"
     ]
    },
    {
     "data": {
      "text/html": [
       "<div style=\"max-height:1000px;max-width:1500px;overflow:auto;\"><table frame=\"box\" rules=\"cols\">\n",
       "    <tr>\n",
       "        <th style=\"padding-left: 1em; padding-right: 1em; text-align: center\">item_id</th>\n",
       "        <th style=\"padding-left: 1em; padding-right: 1em; text-align: center\">score</th>\n",
       "        <th style=\"padding-left: 1em; padding-right: 1em; text-align: center\">rank</th>\n",
       "    </tr>\n",
       "    <tr>\n",
       "        <td style=\"padding-left: 1em; padding-right: 1em; text-align: center; vertical-align: top\">181</td>\n",
       "        <td style=\"padding-left: 1em; padding-right: 1em; text-align: center; vertical-align: top\">0.829895074039</td>\n",
       "        <td style=\"padding-left: 1em; padding-right: 1em; text-align: center; vertical-align: top\">1</td>\n",
       "    </tr>\n",
       "    <tr>\n",
       "        <td style=\"padding-left: 1em; padding-right: 1em; text-align: center; vertical-align: top\">100</td>\n",
       "        <td style=\"padding-left: 1em; padding-right: 1em; text-align: center; vertical-align: top\">0.821158968927</td>\n",
       "        <td style=\"padding-left: 1em; padding-right: 1em; text-align: center; vertical-align: top\">2</td>\n",
       "    </tr>\n",
       "    <tr>\n",
       "        <td style=\"padding-left: 1em; padding-right: 1em; text-align: center; vertical-align: top\">258</td>\n",
       "        <td style=\"padding-left: 1em; padding-right: 1em; text-align: center; vertical-align: top\">0.787644196732</td>\n",
       "        <td style=\"padding-left: 1em; padding-right: 1em; text-align: center; vertical-align: top\">3</td>\n",
       "    </tr>\n",
       "    <tr>\n",
       "        <td style=\"padding-left: 1em; padding-right: 1em; text-align: center; vertical-align: top\">294</td>\n",
       "        <td style=\"padding-left: 1em; padding-right: 1em; text-align: center; vertical-align: top\">0.785361155532</td>\n",
       "        <td style=\"padding-left: 1em; padding-right: 1em; text-align: center; vertical-align: top\">4</td>\n",
       "    </tr>\n",
       "    <tr>\n",
       "        <td style=\"padding-left: 1em; padding-right: 1em; text-align: center; vertical-align: top\">56</td>\n",
       "        <td style=\"padding-left: 1em; padding-right: 1em; text-align: center; vertical-align: top\">0.777276089451</td>\n",
       "        <td style=\"padding-left: 1em; padding-right: 1em; text-align: center; vertical-align: top\">5</td>\n",
       "    </tr>\n",
       "    <tr>\n",
       "        <td style=\"padding-left: 1em; padding-right: 1em; text-align: center; vertical-align: top\">98</td>\n",
       "        <td style=\"padding-left: 1em; padding-right: 1em; text-align: center; vertical-align: top\">0.775844185442</td>\n",
       "        <td style=\"padding-left: 1em; padding-right: 1em; text-align: center; vertical-align: top\">6</td>\n",
       "    </tr>\n",
       "    <tr>\n",
       "        <td style=\"padding-left: 1em; padding-right: 1em; text-align: center; vertical-align: top\">286</td>\n",
       "        <td style=\"padding-left: 1em; padding-right: 1em; text-align: center; vertical-align: top\">0.762164705621</td>\n",
       "        <td style=\"padding-left: 1em; padding-right: 1em; text-align: center; vertical-align: top\">7</td>\n",
       "    </tr>\n",
       "    <tr>\n",
       "        <td style=\"padding-left: 1em; padding-right: 1em; text-align: center; vertical-align: top\">7</td>\n",
       "        <td style=\"padding-left: 1em; padding-right: 1em; text-align: center; vertical-align: top\">0.76040234438</td>\n",
       "        <td style=\"padding-left: 1em; padding-right: 1em; text-align: center; vertical-align: top\">8</td>\n",
       "    </tr>\n",
       "    <tr>\n",
       "        <td style=\"padding-left: 1em; padding-right: 1em; text-align: center; vertical-align: top\">117</td>\n",
       "        <td style=\"padding-left: 1em; padding-right: 1em; text-align: center; vertical-align: top\">0.754186679101</td>\n",
       "        <td style=\"padding-left: 1em; padding-right: 1em; text-align: center; vertical-align: top\">9</td>\n",
       "    </tr>\n",
       "    <tr>\n",
       "        <td style=\"padding-left: 1em; padding-right: 1em; text-align: center; vertical-align: top\">204</td>\n",
       "        <td style=\"padding-left: 1em; padding-right: 1em; text-align: center; vertical-align: top\">0.753459015958</td>\n",
       "        <td style=\"padding-left: 1em; padding-right: 1em; text-align: center; vertical-align: top\">10</td>\n",
       "    </tr>\n",
       "</table>\n",
       "[10 rows x 3 columns]<br/>\n",
       "</div>"
      ],
      "text/plain": [
       "Columns:\n",
       "\titem_id\tint\n",
       "\tscore\tfloat\n",
       "\trank\tint\n",
       "\n",
       "Rows: 10\n",
       "\n",
       "Data:\n",
       "+---------+----------------+------+\n",
       "| item_id |     score      | rank |\n",
       "+---------+----------------+------+\n",
       "|   181   | 0.829895074039 |  1   |\n",
       "|   100   | 0.821158968927 |  2   |\n",
       "|   258   | 0.787644196732 |  3   |\n",
       "|   294   | 0.785361155532 |  4   |\n",
       "|    56   | 0.777276089451 |  5   |\n",
       "|    98   | 0.775844185442 |  6   |\n",
       "|   286   | 0.762164705621 |  7   |\n",
       "|    7    | 0.76040234438  |  8   |\n",
       "|   117   | 0.754186679101 |  9   |\n",
       "|   204   | 0.753459015958 |  10  |\n",
       "+---------+----------------+------+\n",
       "[10 rows x 3 columns]"
      ]
     },
     "execution_count": 103,
     "metadata": {},
     "output_type": "execute_result"
    }
   ],
   "source": [
    "# observed_items = gl.SFrame({'user_id': [1], 'item_id': [1], 'timestamp': [11000], 'prev_item': [109]})\n",
    "# observed_items = gl.SFrame({'user_id': [1, 1], 'item_id': [1, 200], 'timestamp': [11000, 11001], \n",
    "#                             'prev_item': [109, 423]})\n",
    "import time\n",
    "diff = long(time.time() * 1000) - 874724710\n",
    "observed_items = gl.SFrame({'item_id': [1, 200], 'timestamp': [diff, 11001], \n",
    "                            'prev_item': [109, 423]})\n",
    "# observed_items = gl.SFrame({'user_id': [1, 1, 1, 1], \n",
    "#                             'item_id': [1, 200, 340, 500], \n",
    "#                             'timestamp': [11000, 11001, 11003, 11004], \n",
    "#                             'prev_item': [109, 423, 172, 204]})\n",
    "# observed_items = gl.SFrame({'user_id': [1, 1], 'item_id': [1, 105], 'timestamp': [3, 4], 'prev_item': [109, 50]})\n",
    "k_interactions = model.recommend_from_interactions(observed_items, k=10, #exclude_known=True, diversity=1) \n",
    "                                                diversity=1)\n",
    "#                                                  random_seed=0, verbose=True)\n",
    "print observed_items\n",
    "k_interactions"
   ]
  },
  {
   "cell_type": "code",
   "execution_count": 82,
   "metadata": {
    "collapsed": false
   },
   "outputs": [
    {
     "data": {
      "text/plain": [
       "array([[181],\n",
       "       [174],\n",
       "       [288],\n",
       "       [294],\n",
       "       [ 56],\n",
       "       [ 98],\n",
       "       [127],\n",
       "       [286],\n",
       "       [172],\n",
       "       [  7]])"
      ]
     },
     "execution_count": 82,
     "metadata": {},
     "output_type": "execute_result"
    }
   ],
   "source": [
    "k_interactions[[\"item_id\"]].to_numpy()"
   ]
  },
  {
   "cell_type": "code",
   "execution_count": null,
   "metadata": {
    "collapsed": false
   },
   "outputs": [],
   "source": []
  },
  {
   "cell_type": "code",
   "execution_count": null,
   "metadata": {
    "collapsed": true
   },
   "outputs": [],
   "source": []
  }
 ],
 "metadata": {
  "anaconda-cloud": {},
  "kernelspec": {
   "display_name": "Python [Root]",
   "language": "python",
   "name": "Python [Root]"
  },
  "language_info": {
   "codemirror_mode": {
    "name": "ipython",
    "version": 2
   },
   "file_extension": ".py",
   "mimetype": "text/x-python",
   "name": "python",
   "nbconvert_exporter": "python",
   "pygments_lexer": "ipython2",
   "version": "2.7.12"
  }
 },
 "nbformat": 4,
 "nbformat_minor": 0
}
